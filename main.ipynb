{
 "cells": [
  {
   "cell_type": "code",
   "execution_count": 1,
   "metadata": {},
   "outputs": [],
   "source": [
    "#import lib\n",
    "import math\n",
    "import numpy as np\n",
    "import time\n",
    "import copy\n",
    "import random as rd\n",
    "from scipy import special"
   ]
  },
  {
   "cell_type": "code",
   "execution_count": 2,
   "metadata": {},
   "outputs": [
    {
     "name": "stdout",
     "output_type": "stream",
     "text": [
      "0.8807970779778823\n",
      "0.1049935854035065\n"
     ]
    }
   ],
   "source": [
    "#define function\n",
    "def s(x):\n",
    "    return 1/(1+math.exp(-x))\n",
    "#0.8807970779778823\n",
    "print(s(2))\n",
    "def s_prime(x):\n",
    "    return math.exp(-x)/((1+math.exp(-x))**2)\n",
    "def normal_random():\n",
    "    return math.sqrt(2)*special.erfinv(2*rd.random()-1)\n",
    "print(s_prime(2))"
   ]
  },
  {
   "cell_type": "code",
   "execution_count": 3,
   "metadata": {},
   "outputs": [
    {
     "name": "stdout",
     "output_type": "stream",
     "text": [
      "value\n",
      "[0.42140346 0.55973206 0.13986221]\n",
      "[ 0.9115653   1.02199075  0.27492499 -0.48419631]\n",
      "[ 1.17571212  1.01186715  0.07632553 -1.24848335  0.33473578]\n",
      "network weight\n",
      "[[ 0.21672874  0.21672874  0.21672874  0.21672874]\n",
      " [ 0.44913084  0.44913084  0.44913084  0.44913084]\n",
      " [-1.1442339  -1.1442339  -1.1442339  -1.1442339 ]]\n",
      "[[ 1.26774394  1.26774394  1.26774394  1.26774394  1.26774394]\n",
      " [ 0.80804178  0.80804178  0.80804178  0.80804178  0.80804178]\n",
      " [ 0.20039292  0.20039292  0.20039292  0.20039292  0.20039292]\n",
      " [-1.5201878  -1.5201878  -1.5201878  -1.5201878  -1.5201878 ]]\n",
      "\n",
      "network bias\n",
      "[-0.01458079 -0.3404531  -1.12430711  0.07054279]\n",
      "[-0.47501888 -0.60590498 -0.01169228  0.98676679  0.06895601]\n"
     ]
    }
   ],
   "source": [
    "#create network\n",
    "\n",
    "neuron_number=[3,4,5]\n",
    "\n",
    "print('value')\n",
    "network=[]\n",
    "for i in neuron_number:\n",
    "    network.append(np.array([0.0]*i))\n",
    "for i in range(len(network)):\n",
    "    for j in range(len(network[i])):\n",
    "        network[i][j]=normal_random()\n",
    "    print(network[i])\n",
    "        \n",
    "\n",
    "weight=[]\n",
    "for i in range(len(neuron_number)-1):\n",
    "    weight.append(np.array([[0.0]*neuron_number[i+1]]*neuron_number[i]))\n",
    "print('network weight')\n",
    "for i in weight:\n",
    "    for j in range(len(i)):\n",
    "        i[j]=normal_random()\n",
    "    print(i)\n",
    "print()\n",
    "bias=[]\n",
    "for i in range(len(neuron_number)-1):\n",
    "    bias.append(np.array([0.0]*neuron_number[i+1]))\n",
    "print('network bias')\n",
    "for i in bias:\n",
    "    for j in range(len(i)):\n",
    "        i[j]=normal_random()\n",
    "    print(i)"
   ]
  },
  {
   "cell_type": "code",
   "execution_count": 4,
   "metadata": {
    "scrolled": true
   },
   "outputs": [],
   "source": [
    "test_data=np.array([[1,2,3]])\n",
    "label=np.array([1,0,0,0,0])\n",
    "network[0]=test_data[0]"
   ]
  },
  {
   "cell_type": "code",
   "execution_count": 7,
   "metadata": {
    "scrolled": true
   },
   "outputs": [
    {
     "name": "stdout",
     "output_type": "stream",
     "text": [
      "0.09749040314019233\n",
      "0.09212055436955298\n",
      "0.08728074845503514\n",
      "0.0828981135665253\n",
      "0.0789123595724927\n",
      "0.07527320214609406\n",
      "0.07193838981323966\n",
      "0.06887217661518057\n",
      "0.0660441279818171\n",
      "0.06342817849498467\n",
      "0.06100188201350079\n",
      "0.058745810101964675\n",
      "0.056643065816816995\n",
      "0.054678887972562415\n",
      "0.052840326932385204\n",
      "0.051115977355182994\n",
      "0.04949575661260852\n",
      "0.047970720065394004\n",
      "0.04653290627137735\n",
      "0.045175206641251325\n",
      "0.043891255172896375\n",
      "0.04267533476212885\n",
      "0.041522297266396516\n",
      "0.040427495032613\n",
      "0.03938672202404321\n",
      "0.03839616301887031\n",
      "0.037452349623707734\n",
      "0.036552122063323284\n",
      "0.035692595884318765\n",
      "0.034871132854045875\n",
      "0.03408531545331156\n",
      "0.033332924457660104\n",
      "0.03261191918131103\n",
      "0.03192042002342887\n",
      "0.03125669301087345\n",
      "0.03061913607698155\n",
      "0.03000626685390291\n",
      "0.02941671178788428\n",
      "0.02884919641372713\n",
      "0.028302536647306666\n",
      "0.02777563097423913\n",
      "0.027267453429093598\n",
      "0.026777047273439214\n",
      "0.026303519292888163\n",
      "0.02584603464345585\n",
      "0.025403812186284687\n",
      "0.02497612025728039\n",
      "0.024562272824679113\n",
      "0.024161625993150773\n",
      "0.02377357481787567\n",
      "0.023397550396219595\n",
      "0.02303301720826218\n",
      "0.022679470680583985\n",
      "0.022336434950451782\n",
      "0.02200346080991226\n",
      "0.021680123811356436\n",
      "0.021366022517889386\n",
      "0.021060776883361627\n",
      "0.02076402674821594\n",
      "0.02047543043839826\n",
      "0.020194663455487323\n",
      "0.01992141724693102\n",
      "0.019655398045842973\n",
      "0.019396325770220654\n",
      "0.019143932971695005\n",
      "0.0188979638240165\n",
      "0.01865817314141736\n",
      "0.018424325416765395\n",
      "0.01819619386903632\n",
      "0.01797355948907501\n",
      "0.017756210071896508\n",
      "0.017543939222895752\n",
      "0.017336545324314185\n",
      "0.017133830447183477\n",
      "0.016935599192797194\n",
      "0.016741657446655952\n",
      "0.01655181102696089\n",
      "0.01636586420935739\n",
      "0.01618361811015186\n",
      "0.0160048689122255\n",
      "0.01582940592219702\n",
      "0.01565700945524102\n",
      "0.015487448557017839\n",
      "0.015320478592665918\n",
      "0.015155838763696507\n",
      "0.014993249658605717\n",
      "0.014832411006402601\n",
      "0.014672999888569795\n",
      "0.014514669777930818\n",
      "0.01435705091339645\n",
      "0.014199752682257205\n",
      "0.01404236884969706\n",
      "0.01388448661292365\n",
      "0.013725700502530934\n",
      "0.0135656320124402\n",
      "0.013403955390738667\n",
      "0.013240429143255824\n",
      "0.013074931419992742\n",
      "0.012907495645753319\n",
      "0.012738340840045296\n"
     ]
    }
   ],
   "source": [
    "epoch=100\n",
    "for times in range(epoch):\n",
    "\n",
    "    for i in range(1,len(network)):\n",
    "        tmp=np.dot(network[i-1],weight[i-1])+bias[i-1]\n",
    "        for j in range(len(tmp)):\n",
    "            tmp[j]=s(tmp[j])\n",
    "        network[i]=tmp\n",
    "    output_data=network[-1]\n",
    "    error=(np.sum((output_data-label)**2))\n",
    "    print(error)\n",
    "\n",
    "\n",
    "\n",
    "    de_a=[]\n",
    "    de_b=[]\n",
    "    for i in range(len(neuron_number)-1):\n",
    "        de_a.append(np.array([[0.0]*neuron_number[i+1]]*neuron_number[i]))\n",
    "        de_b.append(np.array([0.0]*neuron_number[i+1]))\n",
    "\n",
    "\n",
    "    for m in range(len(de_a[-1])):\n",
    "        for n in range(len(de_a[-1][m])):\n",
    "            tmp_s_prime=0\n",
    "            for i in range(len(network[-2])):\n",
    "                tmp_s_prime+=(weight[-1][i][n]*network[-2][i])\n",
    "            tmp_s_prime+=bias[-1][n]\n",
    "            de_a[-1][m][n]=2*(output_data[n]-label[n])*s_prime(tmp_s_prime)*network[-2][m]\n",
    "            de_b[-1][n]=2*(output_data[n]-label[n])*s_prime(tmp_s_prime)\n",
    "\n",
    "    for m in range(len(de_a[-2])):\n",
    "        for n in range(len(de_a[-2][m])):\n",
    "            y_s_prime=np.zeros(len(network[-1]))\n",
    "            for i in range(len(network[-2])):\n",
    "                for j in range(len(y_s_prime)):\n",
    "                    y_s_prime[j]+=(weight[-1][i][j]*network[-2][i])\n",
    "\n",
    "\n",
    "            for i in range(len(y_s_prime)):\n",
    "                y_s_prime[j]+=bias[-1][i]\n",
    "                y_s_prime[j]=s_prime(y_s_prime[j])\n",
    "\n",
    "            x_s_prime=0\n",
    "            for i in range(len(network[-3])):\n",
    "                x_s_prime+=(weight[-2][i][n]*network[-3][i])\n",
    "            x_s_prime+=bias[-2][n]\n",
    "            x_s_prime=s_prime(x_s_prime)\n",
    "            tmp=0\n",
    "            for i in range(len(network[-1])):\n",
    "                tmp+=(2*(output_data[i]-label[i])*y_s_prime[i]*weight[-1][n][i])\n",
    "            tmp*=x_s_prime\n",
    "            de_b[-2][n]=tmp\n",
    "            tmp*=network[-3][m]\n",
    "            de_a[-2][m][n]=tmp\n",
    "\n",
    "\n",
    "\n",
    "    for i in range(len(weight)):\n",
    "        weight[i]-=(de_a[i])\n",
    "    for i in range(len(bias)):\n",
    "        bias[i]-=(de_b[i])"
   ]
  },
  {
   "cell_type": "code",
   "execution_count": 8,
   "metadata": {},
   "outputs": [
    {
     "name": "stdout",
     "output_type": "stream",
     "text": [
      "[0.9698792  0.05570047 0.05463004 0.05269537 0.05447286]\n"
     ]
    }
   ],
   "source": [
    "print(output_data)"
   ]
  },
  {
   "cell_type": "code",
   "execution_count": null,
   "metadata": {},
   "outputs": [],
   "source": [
    "test=np.zeros(2)\n",
    "test[0]+=0.01\n",
    "print(test)"
   ]
  },
  {
   "cell_type": "code",
   "execution_count": null,
   "metadata": {},
   "outputs": [],
   "source": [
    "delta_a2=np.array([[0.0]*neuron_number[i+1]]*neuron_number[i])\n",
    "for m in range(len(delta_a2)):\n",
    "    for n in range(delta_a2[i]):\n",
    "        delta_a2[m][n]=2*(output_data[0][n]-label[0][n])*s_prime()"
   ]
  },
  {
   "cell_type": "code",
   "execution_count": null,
   "metadata": {},
   "outputs": [],
   "source": [
    "test_1=[[1,2,3]]\n",
    "test_2=[\n",
    "    [1,2],\n",
    "    [1,2],\n",
    "    [1,2]\n",
    "]\n",
    "print(np.dot(np.array(test_1),np.array(test_2)))"
   ]
  },
  {
   "cell_type": "code",
   "execution_count": null,
   "metadata": {},
   "outputs": [],
   "source": []
  }
 ],
 "metadata": {
  "kernelspec": {
   "display_name": "Python 3",
   "language": "python",
   "name": "python3"
  },
  "language_info": {
   "codemirror_mode": {
    "name": "ipython",
    "version": 3
   },
   "file_extension": ".py",
   "mimetype": "text/x-python",
   "name": "python",
   "nbconvert_exporter": "python",
   "pygments_lexer": "ipython3",
   "version": "3.7.9"
  }
 },
 "nbformat": 4,
 "nbformat_minor": 4
}
